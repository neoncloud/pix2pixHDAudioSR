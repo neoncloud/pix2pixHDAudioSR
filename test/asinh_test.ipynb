{
 "cells": [
  {
   "cell_type": "code",
   "execution_count": null,
   "metadata": {},
   "outputs": [],
   "source": [
    "import torch\n",
    "import os, sys\n",
    "parent_dir = os.path.abspath('../')\n",
    "if parent_dir not in sys.path:\n",
    "    sys.path.append(parent_dir)\n",
    "from data.data_loader import CreateDataLoader\n",
    "from models.mdct import IMDCT4\n",
    "from models.models import create_model\n",
    "from util.visualizer import Visualizer\n",
    "import numpy as np\n",
    "import matplotlib.pyplot as plt\n",
    "os.environ['CUDA_VISIBLE_DEVICES']='3'"
   ]
  },
  {
   "cell_type": "code",
   "execution_count": null,
   "metadata": {},
   "outputs": [],
   "source": [
    "opt = torch.load('/root/pix2pixHD/generated/opt.obj')\n",
    "opt.load_pretrain='../checkpoints/hifitts_G5L3_48ngf_arcsinh_fitres2'\n",
    "opt.gpu_ids = [0]\n",
    "visualizer = Visualizer(opt)\n",
    "data_loader = CreateDataLoader(opt)\n",
    "dataset = data_loader.load_data()\n",
    "dataset_size = len(data_loader)\n",
    "model = create_model(opt)\n",
    "print('#audio segments = %d' % dataset_size)"
   ]
  },
  {
   "cell_type": "code",
   "execution_count": null,
   "metadata": {},
   "outputs": [],
   "source": [
    "from util.util import kbdwin\n",
    "#from dct.dct import IDCT\n",
    "#_idct = IDCT()\n",
    "_imdct = IMDCT4(window=kbdwin, win_length=opt.win_length, hop_length=opt.hop_length, n_fft=opt.n_fft, center=opt.center, out_length=opt.segment_length, device = 'cuda')\n",
    "\n",
    "E = []\n",
    "D = []\n",
    "d = []\n",
    "lr = []\n",
    "N = []\n",
    "model.eval()\n",
    "with torch.no_grad():\n",
    "    for i, data in enumerate(dataset):\n",
    "        sr_spectro, lr_pha, norm_param, lr_spectro = model.inference(data['label'], None)\n",
    "        lr.append(lr_spectro.cpu().numpy())\n",
    "        N.append(norm_param)\n",
    "        denorm_lr_spectro = model._mdct(data['label'])\n",
    "        D.append(denorm_lr_spectro.cpu().numpy())\n",
    "        denorm_lr_spectro_ = model.denormalize(lr_spectro, norm_param)\n",
    "        d.append(denorm_lr_spectro_.cpu().numpy())\n",
    "        err = (denorm_lr_spectro - denorm_lr_spectro_.squeeze().permute(0,2,1))**2\n",
    "        err = err.cpu().numpy()\n",
    "        E.append(err)"
   ]
  },
  {
   "cell_type": "code",
   "execution_count": null,
   "metadata": {},
   "outputs": [],
   "source": [
    "plt.plot(E[0][0,:,:])\n",
    "plt.show()"
   ]
  },
  {
   "cell_type": "code",
   "execution_count": null,
   "metadata": {},
   "outputs": [],
   "source": [
    "sp_fig, sp_ax = plt.subplots()\n",
    "DD = D[1][0,:,:]\n",
    "sp_ax.pcolormesh(np.log10(np.abs(DD[:,:42])), cmap='PuBu_r')\n",
    "plt.show()"
   ]
  },
  {
   "cell_type": "code",
   "execution_count": null,
   "metadata": {},
   "outputs": [],
   "source": [
    "sp_hist_fig, sp_hist_ax = plt.subplots()\n",
    "sp_hist_ax.hist(DD.reshape(-1,1),bins=100)\n",
    "plt.show()"
   ]
  },
  {
   "cell_type": "code",
   "execution_count": null,
   "metadata": {},
   "outputs": [],
   "source": [
    "DD = np.arcsinh(DD[:,:42]*500)/np.log(10)\n",
    "MM = np.max(DD)\n",
    "mm = np.min(DD)\n",
    "sp_hist_fig, sp_hist_ax = plt.subplots()\n",
    "sp_hist_ax.hist(DD.reshape(-1,1),bins=100)\n",
    "plt.show()"
   ]
  },
  {
   "cell_type": "code",
   "execution_count": null,
   "metadata": {},
   "outputs": [],
   "source": [
    "print(MM, mm)\n",
    "print(N[1]['max'],N[1]['min'])"
   ]
  },
  {
   "cell_type": "code",
   "execution_count": null,
   "metadata": {},
   "outputs": [],
   "source": [
    "sp_fig, sp_ax = plt.subplots()\n",
    "ll=np.transpose(np.squeeze(lr[1])[0,:42,:])\n",
    "sp_ax.pcolormesh(np.abs(ll), cmap='PuBu_r')\n",
    "plt.show()"
   ]
  },
  {
   "cell_type": "code",
   "execution_count": null,
   "metadata": {},
   "outputs": [],
   "source": [
    "sp_hist_fig, sp_hist_ax = plt.subplots()\n",
    "sp_hist_ax.hist(ll.reshape(-1,1),bins=100)\n",
    "plt.show()"
   ]
  },
  {
   "cell_type": "code",
   "execution_count": null,
   "metadata": {},
   "outputs": [],
   "source": [
    "ll = (ll + 1)/2\n",
    "ll = ll*(MM-mm) + mm\n",
    "sp_hist_fig, sp_hist_ax = plt.subplots()\n",
    "sp_hist_ax.hist(ll.reshape(-1,1),bins=100)\n",
    "plt.show()"
   ]
  },
  {
   "cell_type": "code",
   "execution_count": null,
   "metadata": {},
   "outputs": [],
   "source": [
    "sp_fig, sp_ax = plt.subplots()\n",
    "ll = np.sinh(ll*np.log(10))/500\n",
    "sp_ax.pcolormesh(np.log10(np.abs(ll)), cmap='PuBu_r')\n",
    "plt.show()"
   ]
  },
  {
   "cell_type": "code",
   "execution_count": null,
   "metadata": {},
   "outputs": [],
   "source": [
    "LL = torch.Tensor(lr[1]).cuda()\n",
    "LL = (LL-opt.norm_range[0])/(opt.norm_range[1]-opt.norm_range[0])\n",
    "LL = LL*(N[1]['max']-N[1]['min'])+N[1]['min']\n",
    "LL = torch.sinh(LL*torch.log(torch.Tensor([10]).cuda()))/opt.arcsinh_gain\n",
    "LL = LL.squeeze()\n",
    "sp_fig, sp_ax = plt.subplots()\n",
    "sp_ax.pcolormesh(np.log10(np.abs(LL[0,:42,:].cpu().numpy())), cmap='PuBu_r')\n",
    "plt.show()"
   ]
  },
  {
   "cell_type": "code",
   "execution_count": null,
   "metadata": {},
   "outputs": [],
   "source": [
    "LL = torch.Tensor(lr[1]).cuda()\n",
    "LL = model.denormalize(LL, N[1])\n",
    "LL = LL.squeeze()\n",
    "sp_fig, sp_ax = plt.subplots()\n",
    "sp_ax.pcolormesh(np.log10(np.abs(LL[0,:42,:].cpu().numpy())), cmap='PuBu_r')\n",
    "plt.show()"
   ]
  },
  {
   "cell_type": "code",
   "execution_count": null,
   "metadata": {},
   "outputs": [],
   "source": [
    "sp_hist_fig, sp_hist_ax = plt.subplots()\n",
    "sp_hist_ax.hist(LL[0,:42,:].cpu().numpy().reshape(-1,1),bins=100)\n",
    "plt.show()"
   ]
  },
  {
   "cell_type": "code",
   "execution_count": null,
   "metadata": {},
   "outputs": [],
   "source": [
    "sp_hist_fig, sp_hist_ax = plt.subplots()\n",
    "sp_hist_ax.hist(ll.reshape(-1,1),bins=100)\n",
    "plt.show()"
   ]
  },
  {
   "cell_type": "code",
   "execution_count": null,
   "metadata": {},
   "outputs": [],
   "source": [
    "sp_fig, sp_ax = plt.subplots()\n",
    "err = (ll-DD[:,:42])\n",
    "sp_ax.pcolormesh(np.log10(np.abs(err)), cmap='PuBu_r')\n",
    "plt.show()\n",
    "print(np.mean(err))"
   ]
  },
  {
   "cell_type": "code",
   "execution_count": null,
   "metadata": {},
   "outputs": [],
   "source": [
    "sp_fig, sp_ax = plt.subplots()\n",
    "dd = np.log10(np.abs(np.transpose(np.squeeze(d[1])[0,:42,:])))\n",
    "sp_ax.pcolormesh(np.log10(np.abs(np.transpose(np.squeeze(d[1])[0,:42,:]))), cmap='PuBu_r')\n",
    "plt.show()"
   ]
  },
  {
   "cell_type": "code",
   "execution_count": null,
   "metadata": {},
   "outputs": [],
   "source": [
    "sp_hist_fig, sp_hist_ax = plt.subplots()\n",
    "sp_hist_ax.hist(dd.reshape(-1,1),bins=100)\n",
    "plt.show()"
   ]
  }
 ],
 "metadata": {
  "interpreter": {
   "hash": "1be8e1e697be24aa51be46f7515f4d96c6005120fc689094ce96895b044c9b1b"
  },
  "kernelspec": {
   "display_name": "Python 3.9.7 ('pytorch')",
   "language": "python",
   "name": "python3"
  },
  "language_info": {
   "codemirror_mode": {
    "name": "ipython",
    "version": 3
   },
   "file_extension": ".py",
   "mimetype": "text/x-python",
   "name": "python",
   "nbconvert_exporter": "python",
   "pygments_lexer": "ipython3",
   "version": "3.9.7"
  },
  "orig_nbformat": 4
 },
 "nbformat": 4,
 "nbformat_minor": 2
}
